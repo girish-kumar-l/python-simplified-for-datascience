{
  "nbformat": 4,
  "nbformat_minor": 0,
  "metadata": {
    "colab": {
      "provenance": [],
      "authorship_tag": "ABX9TyMekYYR31gxWz698pSwbxhk",
      "include_colab_link": true
    },
    "kernelspec": {
      "name": "python3",
      "display_name": "Python 3"
    },
    "language_info": {
      "name": "python"
    }
  },
  "cells": [
    {
      "cell_type": "markdown",
      "metadata": {
        "id": "view-in-github",
        "colab_type": "text"
      },
      "source": [
        "<a href=\"https://colab.research.google.com/github/girish-kumar-l/python-simplified-for-datascience/blob/main/Python_101.ipynb\" target=\"_parent\"><img src=\"https://colab.research.google.com/assets/colab-badge.svg\" alt=\"Open In Colab\"/></a>"
      ]
    },
    {
      "cell_type": "markdown",
      "source": [
        "# **Python Basis**"
      ],
      "metadata": {
        "id": "LrV_w3fb7p7E"
      }
    },
    {
      "cell_type": "markdown",
      "source": [
        "**Variables:**\n",
        "1. Variables are case sensitive | Variable starts with alpha or _ | It can only contain alpha, num, _ | python reserved keywords are not used.\n",
        "2. Created when a value is assigned to it. No declaration needed\n",
        "3. No particular type. Reassigning different data type can be dome.\n",
        "4. Type() function retruns the datatype of the variable"
      ],
      "metadata": {
        "id": "yx3PU5rmbYgm"
      }
    },
    {
      "cell_type": "code",
      "source": [
        "a = 10\n",
        "A =15 #different from a\n",
        "print(a)\n",
        "print(A)"
      ],
      "metadata": {
        "colab": {
          "base_uri": "https://localhost:8080/"
        },
        "id": "crUOYLsecJoH",
        "outputId": "1b211e99-dd6b-4026-9564-58ac6b7d7005"
      },
      "execution_count": null,
      "outputs": [
        {
          "output_type": "stream",
          "name": "stdout",
          "text": [
            "10\n",
            "15\n"
          ]
        }
      ]
    },
    {
      "cell_type": "code",
      "source": [
        "a= 10\n",
        "b= 30.01\n",
        "c = \"Girish\"\n",
        "d = 'Kumar' #note: the assignment is in single quotes\n",
        "print(type(a))\n",
        "print(type(b))\n",
        "print(type(c))\n",
        "print(type(d))"
      ],
      "metadata": {
        "colab": {
          "base_uri": "https://localhost:8080/"
        },
        "id": "w4JTjmdMcTCp",
        "outputId": "cde85e95-dc50-406d-930e-5e2ec4634e99"
      },
      "execution_count": null,
      "outputs": [
        {
          "output_type": "stream",
          "name": "stdout",
          "text": [
            "<class 'int'>\n",
            "<class 'float'>\n",
            "<class 'str'>\n",
            "<class 'str'>\n"
          ]
        }
      ]
    },
    {
      "cell_type": "code",
      "source": [
        "$var1 = \"Hello\" #variable starting with speical char would fail during compilation"
      ],
      "metadata": {
        "colab": {
          "base_uri": "https://localhost:8080/",
          "height": 131
        },
        "id": "TUzjBb3idbzo",
        "outputId": "0de4cf3a-270d-42b7-8c8b-30e70001bd01"
      },
      "execution_count": null,
      "outputs": [
        {
          "output_type": "error",
          "ename": "SyntaxError",
          "evalue": "ignored",
          "traceback": [
            "\u001b[0;36m  File \u001b[0;32m\"<ipython-input-20-4e62563bd9a4>\"\u001b[0;36m, line \u001b[0;32m1\u001b[0m\n\u001b[0;31m    $var1 = \"Hello\"\u001b[0m\n\u001b[0m    ^\u001b[0m\n\u001b[0;31mSyntaxError\u001b[0m\u001b[0;31m:\u001b[0m invalid syntax\n"
          ]
        }
      ]
    },
    {
      "cell_type": "code",
      "source": [
        "m,n,o = \"Mango\",\"Nest\",\"Orange\" #many-to-many assignment of variable\n",
        "print(m)\n",
        "print(n)\n",
        "print(o)"
      ],
      "metadata": {
        "colab": {
          "base_uri": "https://localhost:8080/"
        },
        "id": "z9-vA4BqeVGF",
        "outputId": "42ad8d8a-f13d-4847-9d13-c7283546bedb"
      },
      "execution_count": null,
      "outputs": [
        {
          "output_type": "stream",
          "name": "stdout",
          "text": [
            "Mango\n",
            "Nest\n",
            "Orange\n"
          ]
        }
      ]
    },
    {
      "cell_type": "code",
      "source": [
        "m=n=o=\"Mangoes\" #one to many assignment of variables\n",
        "print(m)\n",
        "print(n)\n",
        "print(o)"
      ],
      "metadata": {
        "colab": {
          "base_uri": "https://localhost:8080/"
        },
        "id": "WCWz1XPme6OI",
        "outputId": "fc8841cc-88e4-4015-ffaa-a23e2687226c"
      },
      "execution_count": null,
      "outputs": [
        {
          "output_type": "stream",
          "name": "stdout",
          "text": [
            "Mangoes\n",
            "Mangoes\n",
            "Mangoes\n"
          ]
        }
      ]
    },
    {
      "cell_type": "code",
      "source": [
        "my_list =['Mangoes','Nest','Oranges'] #unpakcing from a list/tuple into a set of variables can also be done on python\n",
        "m,n,o=my_list\n",
        "print(m)\n",
        "print(n)\n",
        "print(o)"
      ],
      "metadata": {
        "colab": {
          "base_uri": "https://localhost:8080/"
        },
        "id": "BkmuMmaVfDx1",
        "outputId": "4e87a6f0-9bd0-4d90-ef3b-fa089fc668bc"
      },
      "execution_count": null,
      "outputs": [
        {
          "output_type": "stream",
          "name": "stdout",
          "text": [
            "Mangoes\n",
            "Nest\n",
            "Oranges\n"
          ]
        }
      ]
    },
    {
      "cell_type": "markdown",
      "source": [
        "**Data Types:**\n",
        "Python has the following data types built-in by default, in these categories:\n",
        "\n",
        "1. Text Type:\tstr\n",
        "2. Numeric Types:\tint, float, complex\n",
        "3. Sequence Types:\tlist, tuple, range\n",
        "4. Mapping Type:\tdict\n",
        "5. Set Types:\tset, frozenset\n",
        "6. Boolean Type:\tbool\n",
        "7. Binary Types:\tbytes, bytearray, memoryview\n",
        "8. None Type:\tNoneType\n",
        "\n",
        "\n",
        "In OOP, types are significantly important. So python offers casting facility where you can cast to int(), float(), or str() datatype while assigning values to variables. However, at times we may need to typecast/convert the variables from one data type to another. Few examples are as below. There are provision for that as well.*italicised text*"
      ],
      "metadata": {
        "id": "az3965wuknzo"
      }
    },
    {
      "cell_type": "code",
      "source": [
        "a =10\n",
        "print(a)\n",
        "b =float(a) #typecasting to float datatype\n",
        "print(b)"
      ],
      "metadata": {
        "colab": {
          "base_uri": "https://localhost:8080/"
        },
        "id": "7Bzu_9malHu7",
        "outputId": "2f9d5336-6815-4624-a680-65849e66830d"
      },
      "execution_count": null,
      "outputs": [
        {
          "output_type": "stream",
          "name": "stdout",
          "text": [
            "10\n",
            "10.0\n"
          ]
        }
      ]
    },
    {
      "cell_type": "markdown",
      "source": [
        "**Strings:**\n",
        "\n",
        "1. Like other langs, string is an array of chars.\n",
        "2. Single quotes & Double quotes are treated same in python for a string assignment.\n",
        "3. Tripple quotes is used for multi line assignment\n",
        "\n",
        "Below are some important sring operations & **methods**"
      ],
      "metadata": {
        "id": "LEHc21r0mGYk"
      }
    },
    {
      "cell_type": "code",
      "source": [
        "my_string = \"This is my string\"\n",
        "print(len(my_string)) #return length of the strong\n",
        "for x in my_string:\n",
        "  print(x)  #iterating the string variable by each char"
      ],
      "metadata": {
        "colab": {
          "base_uri": "https://localhost:8080/"
        },
        "id": "QrUXdBCnni_j",
        "outputId": "870f46fb-5c51-463b-fbb4-7a822c424436"
      },
      "execution_count": null,
      "outputs": [
        {
          "output_type": "stream",
          "name": "stdout",
          "text": [
            "17\n"
          ]
        }
      ]
    },
    {
      "cell_type": "code",
      "source": [
        "my_string = \"This is my string\"\n",
        "print(\"is\" in my_string) #returns true if the char/sub-string is present in my_string\n",
        "print(\"an\" not in my_string) #returns true if the char/sub-string is not present in my_string"
      ],
      "metadata": {
        "colab": {
          "base_uri": "https://localhost:8080/"
        },
        "id": "O7f4W7t9oVjA",
        "outputId": "8a001b3f-0d78-4e8d-c1de-db340de44631"
      },
      "execution_count": null,
      "outputs": [
        {
          "output_type": "stream",
          "name": "stdout",
          "text": [
            "True\n",
            "True\n"
          ]
        }
      ]
    },
    {
      "cell_type": "code",
      "source": [
        "b = \"Hello, World!\"\n",
        "print(b[2:5]) #here 2 is the starting index, 5 is the ending index. \n",
        "              #These are optional values. If 2 is not given, it will slice from begining to 5th index"
      ],
      "metadata": {
        "colab": {
          "base_uri": "https://localhost:8080/"
        },
        "id": "iAGFe8GBpSRh",
        "outputId": "76b6c255-8e4c-4337-c8bf-4000b57ad9f0"
      },
      "execution_count": null,
      "outputs": [
        {
          "output_type": "stream",
          "name": "stdout",
          "text": [
            "llo\n"
          ]
        }
      ]
    },
    {
      "cell_type": "code",
      "source": [
        "my_string = \"This, is my string \" \n",
        "print(my_string.upper())  #converts to upper case\n",
        "print(my_string.lower())  #converts to lower case\n",
        "print(my_string.split(','))  #splits into multiple strings\n",
        "print(my_string.replace('i','H'))  #replace chars"
      ],
      "metadata": {
        "colab": {
          "base_uri": "https://localhost:8080/"
        },
        "id": "GC_Zrm_Yp9gd",
        "outputId": "d6e88cec-7ee2-4262-c549-edd0ce3298b6"
      },
      "execution_count": null,
      "outputs": [
        {
          "output_type": "stream",
          "name": "stdout",
          "text": [
            "THIS, IS MY STRING \n",
            "this, is my string \n",
            "['This', ' is my string ']\n",
            "ThHs, Hs my strHng \n"
          ]
        }
      ]
    },
    {
      "cell_type": "markdown",
      "source": [
        "Note: Concate mutiple strings using + or , operator. However, we need to use format() method to concate other datatypes."
      ],
      "metadata": {
        "id": "W-KEsqbB7MdY"
      }
    },
    {
      "cell_type": "code",
      "source": [
        "my_string = \"This is my string {}\"\n",
        "print(my_string.format(11))\n",
        "my_string_new = \"One {} two {} three {}\"\n",
        "print(my_string_new.format(1,2,3))"
      ],
      "metadata": {
        "colab": {
          "base_uri": "https://localhost:8080/"
        },
        "id": "wY4En4rx7cFx",
        "outputId": "c9b992af-e89c-4a7c-802e-05ee542652a0"
      },
      "execution_count": null,
      "outputs": [
        {
          "output_type": "stream",
          "name": "stdout",
          "text": [
            "This is my string 11\n",
            "One 1 two 2 three 3\n"
          ]
        }
      ]
    },
    {
      "cell_type": "markdown",
      "source": [
        "Below are some of the main string methods that are used more often than not.\n",
        "\n",
        "1. capitalize()\tConverts the first character to upper case\n",
        "2. casefold()\tConverts string into lower case\n",
        "3. center()\tReturns a centered string\n",
        "4. count()\tReturns the number of times a specified value occurs in a string\n",
        "5. encode()\tReturns an encoded version of the string\n",
        "6. endswith()\tReturns true if the string ends with the specified value\n",
        "7. expandtabs()\tSets the tab size of the string\n",
        "8. find()\tSearches the string for a specified value and returns the position of where it was found\n",
        "9. format()\tFormats specified values in a string\n",
        "10. index()\tSearches the string for a specified value and returns the position of where it was found\n",
        "11. isalnum()\tReturns True if all characters in the string are alphanumeric\n",
        "12. isalpha()\tReturns True if all characters in the string are in the alphabet\n",
        "13. isdecimal()\tReturns True if all characters in the string are decimals\n",
        "14. isdigit()\tReturns True if all characters in the string are digits\n",
        "15. isidentifier()\tReturns True if the string is an identifier\n",
        "16. isnumeric()\tReturns True if all characters in the string are numeric\n",
        "17. isupper()\tReturns True if all characters in the string are upper case\n",
        "18. upper()\tConverts a string into upper case\n",
        "19. replace()\tReturns a string where a specified value is replaced with a specified value\n",
        "20. rfind()\tSearches the string for a specified value and returns the last position of where it was found\n",
        "21. split()\tSplits the string at the specified separator, and returns a list\n",
        "22. join()\tJoins the elements of an iterable to the end of the string\n",
        "\n"
      ],
      "metadata": {
        "id": "84M72tqw8Kki"
      }
    },
    {
      "cell_type": "markdown",
      "source": [
        "**Booleans:**\n",
        "\n",
        "1. One of two values - True or False\n",
        "2. Any number other than 0 is True. Any string other than empty is True"
      ],
      "metadata": {
        "id": "efnPE1zZ-V6O"
      }
    },
    {
      "cell_type": "markdown",
      "source": [
        "**Collections:**\n",
        "\n",
        "There are 4 built-in collection data types supported in python\n",
        "1. List - multiple items in single variable. Ordered & Changable\n",
        "2. Tuples - multiple items in single variable. Ordered & Unchangable\n",
        "3. Set - unordered, unchangeable, and unindexed. No Duplicates\n",
        "4. Dictionary - ordered** and changeable key-value pairs. No duplicates"
      ],
      "metadata": {
        "id": "MF10epMhCbuh"
      }
    },
    {
      "cell_type": "code",
      "source": [
        "#everything about the lists\n",
        "thislist = [\"apple\", \"banana\", \"cherry\"]\n",
        "\n",
        "#adding items in the list\n",
        "thislist.append(\"orange\")\n",
        "thislist.insert(1, \"orange\")\n",
        "\n",
        "#changing items in the list\n",
        "thislist[1] = \"blackcurrant\"\n",
        "\n",
        "\n",
        "#removing items from the list\n",
        "thislist.remove(\"banana\")\n",
        "thislist.pop(1)\n",
        "\n",
        "#sorting items in the list\n",
        "thislist.sort()\n",
        "thislist.sort(reverse = True) #reverse sort\n",
        "\n",
        "#copying to a new list\n",
        "mylist = thislist.copy()\n",
        "\n",
        "#joining 2 lists\n",
        "list1 = ['One','Two','Three']\n",
        "list2 = ['Four','Five']\n",
        "list3 = list1 + list2"
      ],
      "metadata": {
        "id": "L0E-Uycl8W0v"
      },
      "execution_count": null,
      "outputs": []
    },
    {
      "cell_type": "code",
      "source": [
        "#everything about the tuples\n",
        "thistuple = (\"apple\", \"banana\", \"cherry\") #order is fixed & cant be changed\n",
        "\n",
        "#accessing tuple\n",
        "print(thistuple[1])\n",
        "print(thistuple[2:5])\n",
        "\n",
        "#adding/modifying/removing is not possible. Covert tuple to list and perform these actions"
      ],
      "metadata": {
        "id": "wEc7Z8ZBxjb0"
      },
      "execution_count": null,
      "outputs": []
    },
    {
      "cell_type": "code",
      "source": [
        "#everything about the sets\n",
        "myset = {\"apple\", \"banana\", \"cherry\"}\n",
        "\n",
        "thisset = {\"apple\", \"banana\", \"cherry\", \"apple\"} #duplicates will be removed while print\n",
        "\n",
        "#adding items into tuples\n",
        "thisset.add(\"orange\")\n",
        "tropical = {\"pineapple\", \"mango\", \"papaya\"}\n",
        "thisset.update(tropical) #we can pass list, tuple as well in the update() method\n",
        "\n",
        "#removing items from tuples\n",
        "thisset.discard(\"banana\")\n",
        "thisset.clear() #clearing the whole set\n",
        "\n",
        "#joining 2 sets\n",
        "set1 = {\"a\", \"b\" , \"c\"}\n",
        "set2 = {1, 2, 3}\n",
        "set3 = set1.union(set2)\n",
        "\n",
        "\n",
        "#sets has various important functions like union, intersection, isdisjoint, difference, symmetrical_difference etc"
      ],
      "metadata": {
        "id": "H5GaX5hyy-QY"
      },
      "execution_count": null,
      "outputs": []
    },
    {
      "cell_type": "code",
      "source": [
        "#everything about the dictionary\n",
        "thisdict = {\n",
        "  \"brand\": \"Ford\",\n",
        "  \"model\": \"Mustang\",\n",
        "  \"year\": 1964\n",
        "}\n",
        "\n",
        "#accessing\n",
        "x = thisdict.get(\"model\")\n",
        "x = thisdict.keys() #returns all the keys in the dict variable\n",
        "\n",
        "#updating\n",
        "thisdict.update({\"year\": 2020})\n",
        "\n",
        "#adding\n",
        "thisdict.update({\"color\": \"red\"})\n",
        "\n",
        "#deleting\n",
        "thisdict.pop(\"model\")\n",
        "del thisdict #delete the complete dictionary variable\n",
        "thisdict.clear() #empties the dictionary variable\n",
        "\n",
        "#copying\n",
        "mydict = thisdict.copy()\n",
        "\n",
        "#nested dictionaries are also possible"
      ],
      "metadata": {
        "id": "17lcOaDK1hmM"
      },
      "execution_count": null,
      "outputs": []
    },
    {
      "cell_type": "markdown",
      "source": [
        "Skipping if-else, while, for loops\n",
        "Skipping functions and arguments"
      ],
      "metadata": {
        "id": "yZr8h8tI3UNi"
      }
    },
    {
      "cell_type": "markdown",
      "source": [],
      "metadata": {
        "id": "bnrMH469eKA8"
      }
    }
  ]
}
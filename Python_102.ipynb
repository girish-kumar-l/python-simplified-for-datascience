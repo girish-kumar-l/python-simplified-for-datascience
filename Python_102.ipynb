{
  "nbformat": 4,
  "nbformat_minor": 0,
  "metadata": {
    "colab": {
      "provenance": [],
      "authorship_tag": "ABX9TyOn9/siYiStj94nVPUaxEyY",
      "include_colab_link": true
    },
    "kernelspec": {
      "name": "python3",
      "display_name": "Python 3"
    },
    "language_info": {
      "name": "python"
    }
  },
  "cells": [
    {
      "cell_type": "markdown",
      "metadata": {
        "id": "view-in-github",
        "colab_type": "text"
      },
      "source": [
        "<a href=\"https://colab.research.google.com/github/girish-kumar-l/python-simplified-for-datascience/blob/main/Python_102.ipynb\" target=\"_parent\"><img src=\"https://colab.research.google.com/assets/colab-badge.svg\" alt=\"Open In Colab\"/></a>"
      ]
    },
    {
      "cell_type": "markdown",
      "source": [
        "# **Pandas**\n",
        "\n",
        "Introduction:\n",
        "1. Pandas = Panel Data. Used while working with data\n",
        "2. Offers range of functions to support sourcing, analyzing, cleaning, exploring, and manipulating the data sets\n",
        "3. Why Pandas? - Capablities to work on Big data. Derive insights and make conclusion"
      ],
      "metadata": {
        "id": "J-eq9WSN7m6J"
      }
    },
    {
      "cell_type": "markdown",
      "source": [],
      "metadata": {
        "id": "nLpM1pBC70hO"
      }
    },
    {
      "cell_type": "code",
      "execution_count": 2,
      "metadata": {
        "id": "R4WJmWsa7h2L"
      },
      "outputs": [],
      "source": [
        "import pandas as pd"
      ]
    },
    {
      "cell_type": "markdown",
      "source": [
        "Series:\n",
        "1. Converts any data structure passed into a column structure.\n",
        "2. One can explicitly pass label using index argument in the function. Example below\n",
        "3. Key/Value pairs can be consumed as two columns"
      ],
      "metadata": {
        "id": "829huHx1Phg3"
      }
    },
    {
      "cell_type": "code",
      "source": [
        "my_array = [1,2,3]\n",
        "\n",
        "my_series = pd.Series(my_array)\n",
        "print(my_series)"
      ],
      "metadata": {
        "colab": {
          "base_uri": "https://localhost:8080/"
        },
        "id": "Y3LGO6atRZAC",
        "outputId": "7fcf56e4-2a86-48ed-a3db-f119d26bce22"
      },
      "execution_count": 5,
      "outputs": [
        {
          "output_type": "stream",
          "name": "stdout",
          "text": [
            "0    1\n",
            "1    2\n",
            "2    3\n",
            "dtype: int64\n"
          ]
        }
      ]
    },
    {
      "cell_type": "code",
      "source": [
        "my_series = pd.Series(my_array, index = ['x', 'y', 'z']) #labeling each row using indexes\n",
        "print(my_series)\n",
        "\n",
        "print(my_series['y']) #retriving particular element from the series"
      ],
      "metadata": {
        "colab": {
          "base_uri": "https://localhost:8080/"
        },
        "id": "rZ1311OUR0ak",
        "outputId": "00db26c8-a7b7-41d7-e9cf-c75e68632d42"
      },
      "execution_count": 9,
      "outputs": [
        {
          "output_type": "stream",
          "name": "stdout",
          "text": [
            "x    1\n",
            "y    2\n",
            "z    3\n",
            "dtype: int64\n",
            "2\n"
          ]
        }
      ]
    },
    {
      "cell_type": "code",
      "source": [
        "numbers = {\"One\": 1, \"Two\": 2, \"Three\": 3} #key-value pairs\n",
        "myvar = pd.Series(numbers)\n",
        "print(numbers)"
      ],
      "metadata": {
        "colab": {
          "base_uri": "https://localhost:8080/"
        },
        "id": "4vLYtUxfSKRf",
        "outputId": "e31cdb7c-95f2-4e0f-a434-617219885902"
      },
      "execution_count": 8,
      "outputs": [
        {
          "output_type": "stream",
          "name": "stdout",
          "text": [
            "{'One': 1, 'Two': 2, 'Three': 3}\n"
          ]
        }
      ]
    },
    {
      "cell_type": "markdown",
      "source": [
        "DataFrames:\n",
        "\n",
        "1. 2-D data structure avail in pandas\n",
        "2. Few illustrations of it are as below"
      ],
      "metadata": {
        "id": "GeWIIhuMTDw7"
      }
    },
    {
      "cell_type": "code",
      "source": [
        "data = {\n",
        "    \"Total_Matches\" : ['23','55','76'],\n",
        "    \"Total_Runs\" : ['977','1986','3491']\n",
        "}\n",
        "\n",
        "df = pd.DataFrame(data)\n",
        "print(df)\n",
        "print(\"--------------------------------\")\n",
        "#let's do some labeling\n",
        "df = pd.DataFrame(data, index = [\"Dube\",\"SKY\",\"Samson\"])\n",
        "print(df)\n",
        "print(\"--------------------------------\")\n",
        "\n",
        "#retrival using label\n",
        "print(df.loc[\"Dube\"])"
      ],
      "metadata": {
        "colab": {
          "base_uri": "https://localhost:8080/"
        },
        "id": "uP30Yb9_S7NX",
        "outputId": "bec3ad84-8992-40d1-ea75-141656097447"
      },
      "execution_count": 16,
      "outputs": [
        {
          "output_type": "stream",
          "name": "stdout",
          "text": [
            "  Total_Matches Total Runs\n",
            "0            23        977\n",
            "1            55       1986\n",
            "2            76       3491\n",
            "--------------------------------\n",
            "       Total_Matches Total Runs\n",
            "Dube              23        977\n",
            "SKY               55       1986\n",
            "Samson            76       3491\n",
            "--------------------------------\n",
            "Total_Matches     23\n",
            "Total Runs       977\n",
            "Name: Dube, dtype: object\n"
          ]
        }
      ]
    },
    {
      "cell_type": "code",
      "source": [
        "#reading from csv. Commonly used in Data Cleaning & Exploration process\n",
        "import pandas as pd\n",
        "\n",
        "df = pd.read_csv('data.csv')\n",
        "print(df)"
      ],
      "metadata": {
        "id": "EVbGnajCWX4a"
      },
      "execution_count": null,
      "outputs": []
    },
    {
      "cell_type": "markdown",
      "source": [
        "Data Cleaning:\n",
        "\n",
        "Below are possible cases of Bad Data\n",
        "1. Empty/NULL values\n",
        "2. Duplicate values\n",
        "3. Wrong value\n",
        "4. Wrong format"
      ],
      "metadata": {
        "id": "gJJSo7i-ZG18"
      }
    },
    {
      "cell_type": "code",
      "source": [
        "#1. Handling Empty cells\n",
        "#Removing rows with empty cells. Impact will be minimum when the data is huge, which is ok\n",
        "df = pd.read_csv('data.csv')\n",
        "new_df = df.dropna()\n",
        "print(new_df)\n",
        "\n",
        "#replacing empty cells with some values\n",
        "df = pd.read_csv('data.csv')\n",
        "new_df = df.fillna(130, inplace = True)\n",
        "print(new_df)\n",
        "\n",
        "#replacing empty cells with some values for selected columns. Ex: Total Runs\n",
        "df[\"Total_Runs\"].fillna(130, inplace = True)\n",
        "new_df = df.fillna(130, inplace = True)\n",
        "print(new_df)\n",
        "\n",
        "#more ofthen than not, we use either of mean, median, or mode to poulate these empty cells\n",
        "x = df[\"Total_Runs\"].median()\n",
        "df[\"Total_Runs\"].fillna(x, inplace = True)"
      ],
      "metadata": {
        "id": "_k_0w0u-ouko"
      },
      "execution_count": null,
      "outputs": []
    },
    {
      "cell_type": "code",
      "source": [
        "#2. Handling Duplicates\n",
        "df = pd.read_csv('data.csv')\n",
        "df.drop_duplicates(inplace = True) #drops the row for which duplicate is found in the data set\n"
      ],
      "metadata": {
        "id": "uERyEgYvtjW7"
      },
      "execution_count": null,
      "outputs": []
    },
    {
      "cell_type": "code",
      "source": [
        "#3. Handling wrong values\n",
        "\n",
        "#In case of huge data, we iterate through each row and identify if any colum is outside its value range. Assign a default value if yes\n",
        "df = pd.read_csv('data.csv')\n",
        "for x in df.index:\n",
        "  if df.loc[x, \"Duration\"] > 120:\n",
        "    df.loc[x, \"Duration\"] = 120\n",
        "\n",
        "#We can remove the rows in which a particular column has fallen out from its accepted range of values\n",
        "df = pd.read_csv('data.csv')\n",
        "for x in df.index:\n",
        "  if df.loc[x, \"Duration\"] > 120:\n",
        "    df.drop(x, inplace = True)\n"
      ],
      "metadata": {
        "id": "iDqZ7bCDssGW"
      },
      "execution_count": null,
      "outputs": []
    },
    {
      "cell_type": "code",
      "source": [
        "#4. Handling Wrong format\n",
        "#convert the column into the required format\n",
        "df = pd.read_csv('data.csv')\n",
        "df['Date'] = pd.to_datetime(df['Date'])\n",
        "print(df.to_string())\n",
        "\n"
      ],
      "metadata": {
        "id": "-NZmrh9frkY8"
      },
      "execution_count": null,
      "outputs": []
    },
    {
      "cell_type": "markdown",
      "source": [
        "Identifying Releationship:\n",
        "\n",
        "1. corr() function helps in finding relationships between columns. \n",
        "2. Range of values -1 to 1. -1 means strong inverse correlation observed between two cols. 1 mean strong positive correlation observed. 0 means the relationship is meaningless and need to breakup :xp\n",
        "3. Usually correlation co-effs (value derived from corr() function) are acceptable in ranges. That is, if the value is between 0.7 to 1 we consider those columns are correlated. These ranges differ basis the nature."
      ],
      "metadata": {
        "id": "epi8Jn0yx5Pe"
      }
    },
    {
      "cell_type": "code",
      "source": [
        "df = pd.read_csv('data.csv')\n",
        "df.corr()"
      ],
      "metadata": {
        "id": "EU_Z4cAVzGNA"
      },
      "execution_count": null,
      "outputs": []
    },
    {
      "cell_type": "code",
      "source": [
        "#plotting graphs using pandas.\n",
        "df = pd.read_csv('data.csv')\n",
        "df.plot() #need mathplotlib to show the plots though. We will explore more in Python-103"
      ],
      "metadata": {
        "id": "HfLOjb7F09-U"
      },
      "execution_count": null,
      "outputs": []
    }
  ]
}